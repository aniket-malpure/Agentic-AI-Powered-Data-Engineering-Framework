{
 "cells": [
  {
   "cell_type": "code",
   "execution_count": 1,
   "id": "f411d566",
   "metadata": {},
   "outputs": [],
   "source": [
    "\n",
    "import pandas as pd\n",
    "import sqlite3\n",
    "import os"
   ]
  },
  {
   "cell_type": "code",
   "execution_count": 2,
   "id": "122f52cc",
   "metadata": {},
   "outputs": [],
   "source": [
    "\n",
    "def create_sqlite_db(csv_path: str, db_path: str, table_name: str):\n",
    "    \"\"\"\n",
    "    Creates a SQLite3 database and inserts CSV data into a table.\n",
    "    \"\"\"\n",
    "    if not os.path.exists(csv_path):\n",
    "        raise FileNotFoundError(f\"CSV not found at {csv_path}\")\n",
    "\n",
    "    # Load CSV\n",
    "    df = pd.read_csv(csv_path)\n",
    "    print(f\"Loaded {len(df)} rows from {csv_path}\")\n",
    "\n",
    "    # Create SQLite connection\n",
    "    conn = sqlite3.connect(db_path)\n",
    "    df.to_sql(table_name, conn, if_exists=\"replace\", index=False)\n",
    "    conn.close()\n",
    "\n",
    "    print(f\"✅ SQLite database created at {db_path} with table '{table_name}'\")"
   ]
  },
  {
   "cell_type": "code",
   "execution_count": 3,
   "id": "77db3497",
   "metadata": {},
   "outputs": [
    {
     "name": "stdout",
     "output_type": "stream",
     "text": [
      "Loaded 71 rows from ../data/db/product_category_name_translation.csv\n",
      "✅ SQLite database created at ../data/db/olist_database.db with table 'olist_orders'\n"
     ]
    }
   ],
   "source": [
    "csv_file = \"../data/db/product_category_name_translation.csv\"\n",
    "db_file = \"../data/db/olist_database.db\"\n",
    "create_sqlite_db(csv_file, db_file, \"olist_orders\")"
   ]
  },
  {
   "cell_type": "code",
   "execution_count": null,
   "id": "ad1f7699",
   "metadata": {},
   "outputs": [],
   "source": []
  }
 ],
 "metadata": {
  "kernelspec": {
   "display_name": "Python 3",
   "language": "python",
   "name": "python3"
  },
  "language_info": {
   "codemirror_mode": {
    "name": "ipython",
    "version": 3
   },
   "file_extension": ".py",
   "mimetype": "text/x-python",
   "name": "python",
   "nbconvert_exporter": "python",
   "pygments_lexer": "ipython3",
   "version": "3.11.1"
  }
 },
 "nbformat": 4,
 "nbformat_minor": 5
}
